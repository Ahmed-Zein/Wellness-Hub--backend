{
 "cells": [
  {
   "cell_type": "markdown",
   "metadata": {},
   "source": [
    "# Technology Stack and Tools\n",
    "\n",
    "## 1. ExpressJs\n",
    "\n",
    "## 2. MongoDB & Mongoose\n"
   ]
  },
  {
   "cell_type": "markdown",
   "metadata": {
    "slideshow": {
     "slide_type": "slide"
    }
   },
   "source": [
    "# Security\n",
    "\n",
    "## 1. Authentication\n",
    "\n",
    "- We Decided to Use JSON Web Tokens (JWT) a different approach to the traditional cookies/sessions\n",
    "\n",
    "### Used Libraries :\n",
    "\n",
    "- jsonwebtoken\n",
    "\n",
    "<img href=\"img/auth.png\">\n"
   ]
  },
  {
   "cell_type": "code",
   "execution_count": null,
   "metadata": {},
   "outputs": [],
   "source": [
    "# show authrized route\n",
    "import  requests\n",
    "\n",
    "url = \"https://wellnesshub.onrender.com/api/v1\";\n",
    "body= {\n",
    "\t\"seller\": \"6670d59acb32f53577025746\",# fake user data\n",
    "\t\"title\": \"Fake titel\",\n",
    "\t\"description\": \"Fake description\",\n",
    "\t\t\"images\": [],\n",
    "\t\"ingredients\":[ ],\n",
    "\t\"category\":\"appetizers\",\n",
    "    \"price\": 9999\n",
    "}\n",
    "\n",
    "res = requests.post(url+ \"/meals\", data=body)\n",
    "\n",
    "if(res.status_code==401):\n",
    "    raise Exception(\"401 NOT AUTHORIZED\")\n"
   ]
  },
  {
   "cell_type": "markdown",
   "metadata": {},
   "source": [
    "## 2. DDOS\n",
    "\n",
    "We are using rate-limiting middleware to limit repeated requests to public APIs and/or endpoints such as registration\n",
    "\n",
    "### Used Libraries :\n",
    "\n",
    "- express-rate-limit\n",
    "\n",
    "<img href=\"img/rate.png\">\n",
    "\n",
    "### Let's try:\n"
   ]
  },
  {
   "cell_type": "code",
   "execution_count": null,
   "metadata": {},
   "outputs": [],
   "source": [
    "!npm run ddos"
   ]
  },
  {
   "cell_type": "markdown",
   "metadata": {},
   "source": [
    "# API tree\n",
    "\n",
    "<div style=\"text-align: center;\">\n",
    "<img src=\"img/apis.png\" width=1000>\n",
    "</div>\n"
   ]
  },
  {
   "cell_type": "markdown",
   "metadata": {},
   "source": [
    "# Tooling\n",
    "\n",
    "<div style=\"text-align: center;\">\n",
    "<img src=\"img/insomania.png\" width=800>\n",
    "</div>\n"
   ]
  },
  {
   "cell_type": "markdown",
   "metadata": {},
   "source": [
    "# Logging System\n",
    "\n",
    "- Logging is Crucial for Observability and System reliability\n",
    "\n",
    "\n",
    "<div style=\"text-align: center;\">\n",
    "<img src=\"img/loggin.png\" width=1000>\n",
    "</div>\n",
    "\n"
   ]
  },
  {
   "cell_type": "markdown",
   "metadata": {},
   "source": [
    "# Error Handling\n",
    "\n",
    "- we collect all the errors that occur in the backend and handle it in a special error handling middleware that takes care of logging the error and sends the response containing the error message to the user.\n",
    "\n",
    "```js\n",
    "app.use((err, req, res, next) => {\n",
    "  const statusCode = err.statusCode || res.statusCode || 500;\n",
    "  logger.error(\n",
    "    `error: ${err.message}, code: ${statusCode}, type: ${err.type || \"na\"}`\n",
    "  );\n",
    "  res.status(statusCode).send({ error: err.message });\n",
    "});\n",
    "```\n",
    "\n",
    "- And We wrote our own custom erro handling to help us track and log the different types of erros that occur in the code\n",
    "\n",
    "```js\n",
    "class CustomError extends Error {\n",
    "  constructor(msg, type, statusCode) {\n",
    "    super(msg);\n",
    "    this.type = type;\n",
    "    this.statusCode = statusCode;\n",
    "  }\n",
    "}\n",
    "```\n",
    "\n",
    "and defined our own ErrorTypes which masks the error messaga that gets logged in the final error middleware\n",
    "\n",
    "```js\n",
    "const ErrorTypes = module.exports;\n",
    "\n",
    "ErrorTypes.AuthError = \"Authentication Error\";\n",
    "\n",
    "ErrorTypes.ServerError = \"Server Error\";\n",
    "\n",
    "ErrorTypes.UnAuthorizedAccess = \"unauthorized access Error\";\n",
    "\n",
    "ErrorTypes.NotFoundError = \"Not found Error\";\n",
    "\n",
    "ErrorTypes.BadRequestError = \"Bad Request\";\n",
    "\n",
    "ErrorTypes.Conflict = \"Confilct\";\n",
    "\n",
    "ErrorTypes.UnprocessableEntity =\n",
    "  \"The server was unable to process the request because it contains invalid data\";\n",
    "```\n"
   ]
  },
  {
   "cell_type": "markdown",
   "metadata": {},
   "source": [
    "# Unit tests\n"
   ]
  },
  {
   "cell_type": "code",
   "execution_count": null,
   "metadata": {},
   "outputs": [],
   "source": [
    "!npm test"
   ]
  },
  {
   "cell_type": "markdown",
   "metadata": {},
   "source": [
    "# Production Pipeline\n",
    "\n",
    "<!-- ![alt text](img/pipline.png) -->\n",
    "\n",
    "<div style=\"text-align: center;\">\n",
    "<img src=\"img/pipline.png\" width=1000>\n",
    "</div>\n",
    "\n",
    "## Triggering github action to run"
   ]
  },
  {
   "cell_type": "code",
   "execution_count": null,
   "metadata": {},
   "outputs": [],
   "source": [
    "!touch test.txt && git add . && git commit -m \"should trigger actions to build\""
   ]
  },
  {
   "cell_type": "code",
   "execution_count": null,
   "metadata": {},
   "outputs": [],
   "source": [
    "!docker build -t ahmedzein/wellness ../"
   ]
  },
  {
   "cell_type": "code",
   "execution_count": null,
   "metadata": {},
   "outputs": [],
   "source": [
    "!docker image ls | grep -E 'REPOSITORY|ahmedzein/wellness'"
   ]
  },
  {
   "cell_type": "markdown",
   "metadata": {},
   "source": [
    "# Deployment\n",
    "\n",
    "We use docker to containerize our app and host our app image on docker hub which provides a hook which is used to trigger Render our cloud service to use the latest snapshot on docker-Hub.\n",
    "\n",
    "<div style=\"text-align: center;\">\n",
    "<img src=\"img/archi.png\" width=700>\n",
    "</div>\n"
   ]
  },
  {
   "cell_type": "markdown",
   "metadata": {},
   "source": [
    "# Disclaimer\n",
    "\n",
    "This is the effort of real human beings and all is done without chaggpt or any other LLMs\n"
   ]
  }
 ],
 "metadata": {
  "kernelspec": {
   "display_name": "Python 3 (ipykernel)",
   "language": "python",
   "name": "python3"
  },
  "language_info": {
   "codemirror_mode": {
    "name": "ipython",
    "version": 3
   },
   "file_extension": ".py",
   "mimetype": "text/x-python",
   "name": "python",
   "nbconvert_exporter": "python",
   "pygments_lexer": "ipython3",
   "version": "3.10.12"
  }
 },
 "nbformat": 4,
 "nbformat_minor": 4
}
